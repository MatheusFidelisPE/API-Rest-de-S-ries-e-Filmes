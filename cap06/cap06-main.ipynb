{
  "cells": [
    {
      "cell_type": "markdown",
      "metadata": {
        "id": "SeJ3wCaKe2Wl"
      },
      "source": [
        "[![Open In Colab](https://colab.research.google.com/assets/colab-badge.svg)](https://colab.research.google.com/github/pablo-sampaio/rl_facil/blob/main/cap06/cap06-main.ipynb)\n",
        "\n",
        "# Capítulo 6 - SARSA de _n_ passos / Tratando Estados Contínuos\n"
      ]
    },
    {
      "cell_type": "markdown",
      "metadata": {
        "id": "uAHITU7VhsM7"
      },
      "source": [
        "## Configurações Iniciais"
      ]
    },
    {
      "cell_type": "code",
      "execution_count": 2,
      "metadata": {
        "id": "NS23BU8R1vq-",
        "colab": {
          "base_uri": "https://localhost:8080/"
        },
        "outputId": "5184e3a1-e3f5-4267-9e72-9c90083b901b"
      },
      "outputs": [
        {
          "output_type": "stream",
          "name": "stdout",
          "text": [
            "Reading package lists... Done\n",
            "Building dependency tree... Done\n",
            "Reading state information... Done\n",
            "ffmpeg is already the newest version (7:4.4.2-0ubuntu0.22.04.1).\n",
            "0 upgraded, 0 newly installed, 0 to remove and 0 not upgraded.\n",
            "Requirement already satisfied: gymnasium in /usr/local/lib/python3.11/dist-packages (1.0.0)\n",
            "Requirement already satisfied: moviepy in /usr/local/lib/python3.11/dist-packages (2.1.2)\n",
            "Requirement already satisfied: numpy>=1.21.0 in /usr/local/lib/python3.11/dist-packages (from gymnasium) (1.26.4)\n",
            "Requirement already satisfied: cloudpickle>=1.2.0 in /usr/local/lib/python3.11/dist-packages (from gymnasium) (3.1.1)\n",
            "Requirement already satisfied: typing-extensions>=4.3.0 in /usr/local/lib/python3.11/dist-packages (from gymnasium) (4.12.2)\n",
            "Requirement already satisfied: farama-notifications>=0.0.1 in /usr/local/lib/python3.11/dist-packages (from gymnasium) (0.0.4)\n",
            "Requirement already satisfied: decorator<6.0,>=4.0.2 in /usr/local/lib/python3.11/dist-packages (from moviepy) (5.1.1)\n",
            "Requirement already satisfied: imageio<3.0,>=2.5 in /usr/local/lib/python3.11/dist-packages (from moviepy) (2.37.0)\n",
            "Requirement already satisfied: imageio_ffmpeg>=0.2.0 in /usr/local/lib/python3.11/dist-packages (from moviepy) (0.6.0)\n",
            "Requirement already satisfied: proglog<=1.0.0 in /usr/local/lib/python3.11/dist-packages (from moviepy) (0.1.10)\n",
            "Requirement already satisfied: python-dotenv>=0.10 in /usr/local/lib/python3.11/dist-packages (from moviepy) (1.0.1)\n",
            "Requirement already satisfied: pillow<11.0,>=9.2.0 in /usr/local/lib/python3.11/dist-packages (from moviepy) (10.4.0)\n",
            "Requirement already satisfied: tqdm in /usr/local/lib/python3.11/dist-packages (from proglog<=1.0.0->moviepy) (4.67.1)\n",
            "Requirement already satisfied: optuna in /usr/local/lib/python3.11/dist-packages (4.2.0)\n",
            "Requirement already satisfied: alembic>=1.5.0 in /usr/local/lib/python3.11/dist-packages (from optuna) (1.14.1)\n",
            "Requirement already satisfied: colorlog in /usr/local/lib/python3.11/dist-packages (from optuna) (6.9.0)\n",
            "Requirement already satisfied: numpy in /usr/local/lib/python3.11/dist-packages (from optuna) (1.26.4)\n",
            "Requirement already satisfied: packaging>=20.0 in /usr/local/lib/python3.11/dist-packages (from optuna) (24.2)\n",
            "Requirement already satisfied: sqlalchemy>=1.4.2 in /usr/local/lib/python3.11/dist-packages (from optuna) (2.0.37)\n",
            "Requirement already satisfied: tqdm in /usr/local/lib/python3.11/dist-packages (from optuna) (4.67.1)\n",
            "Requirement already satisfied: PyYAML in /usr/local/lib/python3.11/dist-packages (from optuna) (6.0.2)\n",
            "Requirement already satisfied: Mako in /usr/local/lib/python3.11/dist-packages (from alembic>=1.5.0->optuna) (1.3.9)\n",
            "Requirement already satisfied: typing-extensions>=4 in /usr/local/lib/python3.11/dist-packages (from alembic>=1.5.0->optuna) (4.12.2)\n",
            "Requirement already satisfied: greenlet!=0.4.17 in /usr/local/lib/python3.11/dist-packages (from sqlalchemy>=1.4.2->optuna) (3.1.1)\n",
            "Requirement already satisfied: MarkupSafe>=0.9.2 in /usr/local/lib/python3.11/dist-packages (from Mako->alembic>=1.5.0->optuna) (3.0.2)\n",
            "Cloning into 'rl_facil'...\n",
            "remote: Enumerating objects: 1863, done.\u001b[K\n",
            "remote: Counting objects: 100% (164/164), done.\u001b[K\n",
            "remote: Compressing objects: 100% (118/118), done.\u001b[K\n",
            "remote: Total 1863 (delta 81), reused 98 (delta 46), pack-reused 1699 (from 2)\u001b[K\n",
            "Receiving objects: 100% (1863/1863), 33.47 MiB | 36.23 MiB/s, done.\n",
            "Resolving deltas: 100% (1209/1209), done.\n"
          ]
        }
      ],
      "source": [
        "from IPython.display import clear_output\n",
        "import sys\n",
        "\n",
        "IN_COLAB = 'google.colab' in sys.modules\n",
        "\n",
        "if IN_COLAB:\n",
        "    # for saving videos\n",
        "    !apt-get install ffmpeg\n",
        "\n",
        "    !pip install gymnasium moviepy\n",
        "    !pip install optuna\n",
        "\n",
        "    # clone repository\n",
        "    !git clone https://github.com/pablo-sampaio/rl_facil\n",
        "    sys.path.append(\"/content/rl_facil\")\n",
        "\n",
        "else:\n",
        "    from os import path\n",
        "    sys.path.append( path.dirname( path.dirname( path.abspath(\"__main__\") ) ) )\n",
        "\n",
        "#clear_output()"
      ]
    },
    {
      "cell_type": "code",
      "execution_count": 3,
      "metadata": {
        "id": "0Gzf7VhkiHxQ"
      },
      "outputs": [],
      "source": [
        "import gymnasium as gym\n",
        "from gymnasium.wrappers import TimeLimit\n",
        "\n",
        "import numpy as np\n",
        "\n",
        "from cap06.nstep_sarsa import run_nstep_sarsa\n",
        "\n",
        "from envs import RacetrackEnv\n",
        "from envs.wrappers import ObservationDiscretizerWrapper\n",
        "\n",
        "from util.experiments import repeated_exec\n",
        "from util.plot import plot_result, plot_multiple_results\n",
        "from util.notebook import display_videos_from_path\n",
        "from util.qtable_helper import evaluate_qtable_policy, record_video_qtable\n"
      ]
    },
    {
      "cell_type": "markdown",
      "metadata": {
        "id": "U-xEwtye5J_r"
      },
      "source": [
        "## 1 - SARSA de n Passos"
      ]
    },
    {
      "cell_type": "markdown",
      "metadata": {
        "id": "oypatF0t5J_t"
      },
      "source": [
        "É uma extensão do SARSA que usa uma sequência de de *n* passos (ou seja, com *n* ações realizadas no ambiente) como entrada para cada atualização da estimativa do $Q(s,a)$.\n",
        "\n",
        "Com **$n=1$**, ele estima $Q(s,a)$ igual ao *SARSA*:\n",
        "- usa esta experiência: $s, a, r_1, s_1, a_1$\n",
        "- calcula a nova estimativa de $Q(s,a)$ assim (para estados não-terminais):\n",
        "$$Q_{target} = r_1 + \\gamma . Q(s_1,a_1)$$\n",
        "- note que apenas 1 ação foi realizada ($a$) e apenas 1 recompensa foi recebida ($r_1$)\n",
        "- observe que a última ação ($a_1$) foi escolhida, mas não foi realizada no ambiente\n",
        "\n",
        "Com **$n=2$**, para estimar $Q(s,a)$, ele:\n",
        "- usa esta experiência: $s, a, r_1, s_1, a_1, r_2, s_2, a_2$\n",
        "- calcula a nova estimativa de $Q(s,a)$ assim:\n",
        "$$Q_{target} = r_1 + \\gamma .r_2 + \\gamma^2 . Q(s_2,a_2)$$\n",
        "- esta é uma estimativa mais precisa, que usa os dados de *duas* recompensas reais\n",
        "\n",
        "Para **$n$ qualquer**:\n",
        "- experiência: $s, a, r_1, s_1, a_1, r_2, s_2, a_2, s_3, \\cdots, r_n, s_n, a_n$\n",
        "- nova estimativa:\n",
        "$$Q_{target} = r_1 + \\gamma .r_2 + \\gamma^2 . r_2 + \\cdots + \\gamma^n . Q(s_n,a_n)$$\n",
        "\n",
        "O $n$ será um parâmetro do algoritmo.\n",
        "\n",
        "O código é mais complexo do que dos algoritmos de 1 passo. Veja o arquivo `cap06/nstep_sarsa.py` para conhecer os detalhes.\n",
        "\n",
        "Abaixo, vamos importar e usar aquela implementação para fazer um experimento:"
      ]
    },
    {
      "cell_type": "code",
      "execution_count": 4,
      "metadata": {
        "id": "4x5E-zx85J_u",
        "colab": {
          "base_uri": "https://localhost:8080/"
        },
        "outputId": "d7a38402-27e1-4887-88ee-02b8418fef94"
      },
      "outputs": [
        {
          "output_type": "stream",
          "name": "stdout",
          "text": [
            "Episode 100 Average Reward (last 100): -117.830\n",
            "Episode 200 Average Reward (last 100): -105.020\n",
            "Episode 300 Average Reward (last 100): -103.460\n",
            "Episode 400 Average Reward (last 100): -100.320\n",
            "Episode 500 Average Reward (last 100): -87.210\n",
            "Episode 600 Average Reward (last 100): -90.390\n",
            "Episode 700 Average Reward (last 100): -70.300\n",
            "Episode 800 Average Reward (last 100): -65.420\n",
            "Episode 900 Average Reward (last 100): -68.610\n",
            "Episode 1000 Average Reward (last 100): -64.060\n",
            "Episode 1100 Average Reward (last 100): -71.180\n",
            "Episode 1200 Average Reward (last 100): -67.240\n",
            "Episode 1300 Average Reward (last 100): -57.150\n",
            "Episode 1400 Average Reward (last 100): -51.400\n",
            "Episode 1500 Average Reward (last 100): -54.430\n",
            "Episode 1600 Average Reward (last 100): -54.020\n",
            "Episode 1700 Average Reward (last 100): -46.080\n",
            "Episode 1800 Average Reward (last 100): -47.580\n",
            "Episode 1900 Average Reward (last 100): -42.570\n",
            "Episode 2000 Average Reward (last 100): -39.690\n",
            "Episode 2100 Average Reward (last 100): -46.070\n",
            "Episode 2200 Average Reward (last 100): -40.270\n",
            "Episode 2300 Average Reward (last 100): -37.990\n",
            "Episode 2400 Average Reward (last 100): -34.690\n",
            "Episode 2500 Average Reward (last 100): -29.800\n",
            "Episode 2600 Average Reward (last 100): -30.740\n",
            "Episode 2700 Average Reward (last 100): -34.280\n",
            "Episode 2800 Average Reward (last 100): -32.680\n",
            "Episode 2900 Average Reward (last 100): -31.430\n",
            "Episode 3000 Average Reward (last 100): -31.310\n",
            "Episode 3100 Average Reward (last 100): -30.400\n",
            "Episode 3200 Average Reward (last 100): -30.880\n",
            "Episode 3300 Average Reward (last 100): -30.320\n",
            "Episode 3400 Average Reward (last 100): -25.910\n",
            "Episode 3500 Average Reward (last 100): -28.960\n",
            "Episode 3600 Average Reward (last 100): -27.520\n",
            "Episode 3700 Average Reward (last 100): -24.860\n",
            "Episode 3800 Average Reward (last 100): -26.010\n",
            "Episode 3900 Average Reward (last 100): -23.660\n",
            "Episode 4000 Average Reward (last 100): -23.020\n",
            "Episode 4100 Average Reward (last 100): -22.180\n",
            "Episode 4200 Average Reward (last 100): -23.090\n",
            "Episode 4300 Average Reward (last 100): -22.410\n",
            "Episode 4400 Average Reward (last 100): -22.060\n",
            "Episode 4500 Average Reward (last 100): -20.360\n",
            "Episode 4600 Average Reward (last 100): -18.700\n",
            "Episode 4700 Average Reward (last 100): -18.360\n",
            "Episode 4800 Average Reward (last 100): -19.440\n",
            "Episode 4900 Average Reward (last 100): -17.050\n",
            "Episode 5000 Average Reward (last 100): -16.510\n",
            "Últimos resultados: media = -14.2 , desvio padrao = 6.66783323126786\n"
          ]
        }
      ],
      "source": [
        "# para ambientes gymnasium\n",
        "#ENV_NAME, r_max = \"Taxi-v3\", 10\n",
        "#ENV_NAME, r_max = \"CliffWalking-v0\", 0\n",
        "#ENV_NAME, r_max = \"FrozenLake-v1\", 0\n",
        "ENV_NAME, r_max = \"RaceTrack-v0\", 0\n",
        "\n",
        "env = gym.make(ENV_NAME)\n",
        "\n",
        "# para ambientes instanciados diretamente\n",
        "# atenção: vale a pena aplicar um TimeLimit\n",
        "#env = RacetrackEnv()\n",
        "#r_max = 0\n",
        "\n",
        "EPISODES = 5_000\n",
        "LR = 0.1\n",
        "GAMMA = 0.95\n",
        "EPSILON = 0.1\n",
        "NSTEPS = 5\n",
        "\n",
        "# Roda o algoritmo \"n-step SARSA\"\n",
        "rewards1, qtable1 = run_nstep_sarsa(env, EPISODES, NSTEPS, LR, GAMMA, EPSILON, verbose=True)\n",
        "print(\"Últimos resultados: media =\", np.mean(rewards1[-20:]), \", desvio padrao =\", np.std(rewards1[-20:]))"
      ]
    },
    {
      "cell_type": "code",
      "execution_count": 5,
      "metadata": {
        "id": "Jfj6LvPI5J_u",
        "colab": {
          "base_uri": "https://localhost:8080/",
          "height": 642
        },
        "outputId": "b91e8b21-9d7d-4d45-cab0-80b0bd751f80"
      },
      "outputs": [
        {
          "output_type": "display_data",
          "data": {
            "text/plain": [
              "<Figure size 1200x700 with 1 Axes>"
            ],
            "image/png": "[encoded data removed]"
          },
          "metadata": {}
        }
      ],
      "source": [
        "# Mostra um gráfico de episódios x retornos não descontados\n",
        "plot_result(rewards1, r_max, None)"
      ]
    },
    {
      "cell_type": "code",
      "execution_count": 6,
      "metadata": {
        "id": "wK4dvRUR5J_v",
        "colab": {
          "base_uri": "https://localhost:8080/"
        },
        "outputId": "5a4d9fef-cd7f-4169-8279-960a68951aff"
      },
      "outputs": [
        {
          "output_type": "stream",
          "name": "stdout",
          "text": [
            "Episódio 1: -33.0\n",
            "Episódio 2: -10.0\n",
            "Episódio 3: -12.0\n",
            "Episódio 4: -35.0\n",
            "Episódio 5: -25.0\n",
            "Episódio 6: -30.0\n",
            "Episódio 7: -47.0\n",
            "Episódio 8: -8.0\n",
            "Episódio 9: -15.0\n",
            "Episódio 10: -35.0\n",
            "Retorno médio (por episódio): -25.00, episódios: 10, total de passos: 260\n"
          ]
        }
      ],
      "source": [
        "evaluate_qtable_policy(env, qtable1, 10, epsilon=0.1, verbose=True);"
      ]
    },
    {
      "cell_type": "code",
      "execution_count": 7,
      "metadata": {
        "id": "YnaEv684Bbp2"
      },
      "outputs": [],
      "source": [
        "# atenção: precisa passar a ID do ambiente no gymnasium ou instanciar diretamente um novo ambiente com o render_mode \"rgb_array\"\n",
        "record_video_qtable(ENV_NAME, qtable1, episodes=3, folder='videos/', prefix='nstep-discrete')\n",
        "#record_video_qtable(RacetrackEnv(render_mode=\"rgb_array\"), qtable1, episodes=3, folder='videos/', prefix='nstep-discrete')"
      ]
    },
    {
      "cell_type": "code",
      "execution_count": 8,
      "metadata": {
        "colab": {
          "base_uri": "https://localhost:8080/",
          "height": 1000
        },
        "id": "M63w0EtIBbp3",
        "outputId": "54df752b-fc28-4027-bd2f-45a631cb7ccf"
      },
      "outputs": [
        {
          "output_type": "display_data",
          "data": {
            "text/plain": [
              "<IPython.core.display.HTML object>"
            ],
            "text/html": [
              "<video alt=\"videos/nstep-discrete-episode-0.mp4\" autoplay \n",
              "                    loop controls style=\"height: 400px;\">\n",
              "                    <source src=\"data:video/mp4;base64,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\" type=\"video/mp4\" />\n",
              "                    </video><br><video alt=\"videos/nstep-discrete-episode-2.mp4\" autoplay \n",
              "                    loop controls style=\"height: 400px;\">\n",
              "                    <source src=\"data:video/mp4;base64,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\" type=\"video/mp4\" />\n",
              "                    </video><br><video alt=\"videos/nstep-discrete-episode-1.mp4\" autoplay \n",
              "                    loop controls style=\"height: 400px;\">\n",
              "                    <source src=\"data:video/mp4;base64,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\" type=\"video/mp4\" />\n",
              "                    </video>"
            ]
          },
          "metadata": {}
        },
        {
          "output_type": "display_data",
          "data": {
            "text/plain": [
              "<IPython.core.display.HTML object>"
            ],
            "text/html": [
              "\n",
              "        <script>\n",
              "        var videos = document.getElementsByTagName('video');\n",
              "        for (var i = 0; i < videos.length; i++) {\n",
              "            videos[i].playbackRate = 1.0;\n",
              "        }\n",
              "        </script>\n",
              "        "
            ]
          },
          "metadata": {}
        }
      ],
      "source": [
        "display_videos_from_path('./videos', prefix='nstep-discrete')"
      ]
    },
    {
      "cell_type": "markdown",
      "metadata": {
        "id": "TOViVOIgBbp3"
      },
      "source": [
        "A seguir, vamos rodar alguns experimentos variando a quantidade de passos:"
      ]
    },
    {
      "cell_type": "code",
      "execution_count": 9,
      "metadata": {
        "id": "wkpV4ENC5J_v"
      },
      "outputs": [],
      "source": [
        "RUNS = 3\n",
        "results1 = []\n",
        "for nstep in [1, 2, 3]:\n",
        "    results1.append( repeated_exec(RUNS, f\"{nstep}-step SARSA (LR={LR})\", run_nstep_sarsa, env, EPISODES, nstep, LR) )\n",
        "    clear_output()"
      ]
    },
    {
      "cell_type": "code",
      "execution_count": null,
      "metadata": {
        "id": "J1Ehr5Eh5J_v"
      },
      "outputs": [],
      "source": [
        "plot_multiple_results(results1, window=30, x_log_scale=True)"
      ]
    },
    {
      "cell_type": "markdown",
      "metadata": {
        "id": "ztvJdbKVh20Y"
      },
      "source": [
        "## 2 - Lidando com Estados Contínuos"
      ]
    },
    {
      "cell_type": "markdown",
      "metadata": {
        "id": "HixOwQY5Bbp5"
      },
      "source": [
        "Vamos usar os mesmos algoritmos de antes, baseados em Q-Table, para lidar com ambientes de estados contínuos.\n",
        "\n",
        "Para isso, vamos usar um *wrapper* que discretiza os estados desses ambientes.\n",
        "\n",
        "Primeiramente, vamos analisar, abaixo, o espaço de estados de um ambiente contínuo:"
      ]
    },
    {
      "cell_type": "code",
      "execution_count": null,
      "metadata": {
        "id": "8OACm0r-iuh2"
      },
      "outputs": [],
      "source": [
        "ENV_NAME = \"CartPole-v1\"\n",
        "r_max_plot = 200\n",
        "\n",
        "env2a = gym.make(ENV_NAME)\n",
        "\n",
        "# vamos ver como é um estado deste ambiente?\n",
        "print(\"Espaço de estados/observações: \", env2a.observation_space)\n",
        "print(\"  - formato: \", env2a.observation_space.shape)\n",
        "print(\"  - exemplo: \", env2a.reset())"
      ]
    },
    {
      "cell_type": "markdown",
      "metadata": {
        "id": "EQgo_bTKBbp6"
      },
      "source": [
        "Abaixo, nós encapsulamos o ambiente contínuo em um wrapper para discretizá-lo.\n",
        "\n",
        "Os parâmetros indicam quantos valores discretos foram usados para representar cada uma das dimensões do estado.\n",
        "\n",
        "Como resultado, o espaço de estados torna-se do tipo `Discrete`, o que indica que cada \"estado\" é representado como um único número inteiro."
      ]
    },
    {
      "cell_type": "code",
      "execution_count": null,
      "metadata": {
        "id": "vplFS4jKuA4m"
      },
      "outputs": [],
      "source": [
        "# Encapsula o ambiente em nosso wrapper\n",
        "# atenção para o parâmetro BINS: deve ter um valor para cada componente do estado\n",
        "BINS = [5, 30, 30, 30]\n",
        "env2b = ObservationDiscretizerWrapper(env2a, BINS)\n",
        "\n",
        "env2b.observation_space"
      ]
    },
    {
      "cell_type": "markdown",
      "metadata": {
        "id": "gV4DxpnEBbp6"
      },
      "source": [
        "Agora, podemos rodar treinamentos com quaisquer dos algoritmos que temos visto. Vamos rodar o *SARSA de n passos*:"
      ]
    },
    {
      "cell_type": "code",
      "execution_count": null,
      "metadata": {
        "id": "Le0wNU9PrA8f"
      },
      "outputs": [],
      "source": [
        "EPISODES = 5_000\n",
        "LR = 0.2\n",
        "GAMMA = 0.95\n",
        "EPSILON = 0.1\n",
        "NSTEPS = 4\n",
        "\n",
        "rewards2, qtable2 = run_nstep_sarsa(env2b, EPISODES, NSTEPS, LR, GAMMA, EPSILON, verbose=True)\n",
        "\n",
        "print(\"Últimos resultados: media =\", np.mean(rewards2[-20:]), \", desvio padrao =\", np.std(rewards2[-20:]))"
      ]
    },
    {
      "cell_type": "code",
      "execution_count": null,
      "metadata": {
        "id": "oXlD7B-pshru"
      },
      "outputs": [],
      "source": [
        "# Gera um gráfico de episódios x retornos (não descontados)\n",
        "plot_result(rewards2, r_max_plot)"
      ]
    },
    {
      "cell_type": "code",
      "execution_count": null,
      "metadata": {
        "id": "8Bz2Pp1Wsi_P"
      },
      "outputs": [],
      "source": [
        "# Faz alguns testes, usando a tabela de forma greedy\n",
        "evaluate_qtable_policy(env2b, qtable2, 10, 0.0, verbose=True)"
      ]
    },
    {
      "cell_type": "code",
      "execution_count": null,
      "metadata": {
        "id": "-dEieR1WBbp7"
      },
      "outputs": [],
      "source": [
        "# Salva vídeo\n",
        "# Atenção: é recomendado criar nova instância do ambiente e do wrapper!\n",
        "env_test = gym.make(ENV_NAME, render_mode=\"rgb_array\")\n",
        "env_test = ObservationDiscretizerWrapper(env_test, BINS)\n",
        "record_video_qtable(env_test, qtable2, episodes=3, folder='videos/', prefix='nstep-cartpole')"
      ]
    },
    {
      "cell_type": "code",
      "execution_count": null,
      "metadata": {
        "id": "a_LkBPgb5iz2"
      },
      "outputs": [],
      "source": [
        "# Exibe o video\n",
        "display_videos_from_path('./videos', prefix='nstep-cartpole')"
      ]
    },
    {
      "cell_type": "markdown",
      "metadata": {
        "id": "M8roKzCgsuCl"
      },
      "source": [
        "## 3 - Otimizando Parâmetros\n",
        "\n",
        "Vamos usar a biblioteca *Optuna* para otimizar (hiper-)parâmetros dos algoritmos de treinamento."
      ]
    },
    {
      "cell_type": "code",
      "execution_count": 10,
      "metadata": {
        "id": "jLiZSmcdBbp_"
      },
      "outputs": [],
      "source": [
        "import optuna"
      ]
    },
    {
      "cell_type": "markdown",
      "metadata": {
        "id": "trmhijg0Bbp_"
      },
      "source": [
        "### 3.1 - Ambiente Discreto"
      ]
    },
    {
      "cell_type": "markdown",
      "metadata": {
        "id": "MBsJRMCstj0N"
      },
      "source": [
        "Este é o caso mais simples, porque não precisamos aplicar nenhum wrapper.\n",
        "\n",
        "Primeiro, você precisa fazer uma função que receber um parâmetro do tipo `Trial` (definido no optuna) e retorna uma medida de desempenho.\n",
        "\n",
        "Dentro da função, você usa o objeto *trial* para pedir \"sugestões\" de valores para os hiper-parâmetros do seu algoritmo."
      ]
    },
    {
      "cell_type": "code",
      "source": [
        "experiments = {\n",
        "    \"nsteps\":[2**x for x in range(0, 7)],\n",
        "    \"epsilon\":[0.4, 0.2, 0.1, 0.5, 0.25, 0.125, 0.0625, 0.03125, 0.015625, 0.0078125, 0.00390625, 0.001953125, 0.5, 0.25, 0.125, 0.0625, 0.03125, 0.015625, 0.0078125]\n",
        "\n",
        "}"
      ],
      "metadata": {
        "id": "OFFAa1SaHC3W"
      },
      "execution_count": null,
      "outputs": []
    },
    {
      "cell_type": "code",
      "execution_count": 14,
      "metadata": {
        "id": "aU8DNpphvcRa"
      },
      "outputs": [],
      "source": [
        "def train_nstep_sarsa_racetrack(trial : optuna.Trial):\n",
        "    # chama os métodos do \"trial\" (tentativa) para sugerir valores para os parâmetros\n",
        "    eps    = trial.suggest_float('epsilon', 0.01, 0.2)\n",
        "    gamma  = trial.suggest_float('gamma', 0.90, 1.00)\n",
        "    lr     = trial.suggest_float('lr', 0.001, 1.0, log=True) # sugere na escala log (maior chance de escolher valor menor)\n",
        "    nsteps = trial.suggest_int('nsteps', 1, 16)\n",
        "\n",
        "    # outra opção trial.suggest_categorical('param', ['value1', 'value2'])\n",
        "\n",
        "    print(f\"\\nTRIAL #{trial.number}: {trial.params}\")\n",
        "\n",
        "    # cria o ambiente Racetrack, mas insere-o em um wrapper para limitar o tamanho do episódio\n",
        "    env = gym.make(\"RaceTrack-v0\")\n",
        "\n",
        "    # roda o algoritmo e recebe os retornos não-descontados\n",
        "    (returns, _) = run_nstep_sarsa(env, 3000, nsteps, lr=lr, epsilon=eps, gamma=gamma, verbose=False)\n",
        "\n",
        "    # média dos retornos dos últimos 100 episódios\n",
        "    return sum(returns[-100:])/100\n"
      ]
    },
    {
      "cell_type": "markdown",
      "metadata": {
        "id": "OUpVCri3v7v9"
      },
      "source": [
        "Depois, você cria um \"study\" do Optuna e manda otimizar sua função, indicando quantas tentativas (trials) ele vai fazer -- ou seja, quantas vezes a sua função vai ser executada."
      ]
    },
    {
      "cell_type": "code",
      "execution_count": 15,
      "metadata": {
        "id": "ZTVBjiirtOUP",
        "colab": {
          "base_uri": "https://localhost:8080/"
        },
        "outputId": "9158decc-a910-4f91-b40a-a266c6e604bb"
      },
      "outputs": [
        {
          "output_type": "stream",
          "name": "stderr",
          "text": [
            "[I 2025-02-06 17:25:21,055] Using an existing study with name 'nstep_sarsa_racetrack' instead of creating a new one.\n"
          ]
        },
        {
          "output_type": "stream",
          "name": "stdout",
          "text": [
            "\n",
            "TRIAL #21: {'epsilon': 0.1949824725322809, 'gamma': 0.9915669025170257, 'lr': 0.06827991453423375, 'nsteps': 3}\n",
            "\n",
            "TRIAL #20: {'epsilon': 0.03229215228851032, 'gamma': 0.9935085215432701, 'lr': 0.5093528921097642, 'nsteps': 4}\n"
          ]
        },
        {
          "output_type": "stream",
          "name": "stderr",
          "text": [
            "[I 2025-02-06 17:25:21,691] Trial 21 finished with value: -56.24 and parameters: {'epsilon': 0.1949824725322809, 'gamma': 0.9915669025170257, 'lr': 0.06827991453423375, 'nsteps': 3}. Best is trial 17 with value: -10.69.\n",
            "[I 2025-02-06 17:25:21,845] Trial 20 finished with value: -63.79 and parameters: {'epsilon': 0.03229215228851032, 'gamma': 0.9935085215432701, 'lr': 0.5093528921097642, 'nsteps': 4}. Best is trial 17 with value: -10.69.\n"
          ]
        },
        {
          "output_type": "stream",
          "name": "stdout",
          "text": [
            "\n",
            "TRIAL #22: {'epsilon': 0.032177553145547086, 'gamma': 0.9765153462012114, 'lr': 0.34797441948060925, 'nsteps': 4}\n",
            "\n",
            "TRIAL #23: {'epsilon': 0.09250522951517358, 'gamma': 0.9796073340363434, 'lr': 0.2164318347326943, 'nsteps': 7}\n"
          ]
        },
        {
          "output_type": "stream",
          "name": "stderr",
          "text": [
            "[I 2025-02-06 17:25:22,344] Trial 22 finished with value: -63.47 and parameters: {'epsilon': 0.032177553145547086, 'gamma': 0.9765153462012114, 'lr': 0.34797441948060925, 'nsteps': 4}. Best is trial 17 with value: -10.69.\n",
            "[I 2025-02-06 17:25:22,476] Trial 23 finished with value: -60.36 and parameters: {'epsilon': 0.09250522951517358, 'gamma': 0.9796073340363434, 'lr': 0.2164318347326943, 'nsteps': 7}. Best is trial 17 with value: -10.69.\n"
          ]
        },
        {
          "output_type": "stream",
          "name": "stdout",
          "text": [
            "\n",
            "TRIAL #24: {'epsilon': 0.05902092694621498, 'gamma': 0.9663455163776207, 'lr': 0.6024040434003846, 'nsteps': 8}\n",
            "\n",
            "TRIAL #25: {'epsilon': 0.0642630899108045, 'gamma': 0.9664110720429291, 'lr': 0.6207563746398043, 'nsteps': 8}\n"
          ]
        },
        {
          "output_type": "stream",
          "name": "stderr",
          "text": [
            "[I 2025-02-06 17:25:23,027] Trial 24 finished with value: -64.77 and parameters: {'epsilon': 0.05902092694621498, 'gamma': 0.9663455163776207, 'lr': 0.6024040434003846, 'nsteps': 8}. Best is trial 17 with value: -10.69.\n",
            "[I 2025-02-06 17:25:23,087] Trial 25 finished with value: -66.15 and parameters: {'epsilon': 0.0642630899108045, 'gamma': 0.9664110720429291, 'lr': 0.6207563746398043, 'nsteps': 8}. Best is trial 17 with value: -10.69.\n"
          ]
        },
        {
          "output_type": "stream",
          "name": "stdout",
          "text": [
            "\n",
            "TRIAL #26: {'epsilon': 0.011733869825905404, 'gamma': 0.9846256947360892, 'lr': 0.18831703131194827, 'nsteps': 2}\n"
          ]
        },
        {
          "output_type": "stream",
          "name": "stderr",
          "text": [
            "[I 2025-02-06 17:25:23,597] Trial 26 finished with value: -56.64 and parameters: {'epsilon': 0.011733869825905404, 'gamma': 0.9846256947360892, 'lr': 0.18831703131194827, 'nsteps': 2}. Best is trial 17 with value: -10.69.\n"
          ]
        },
        {
          "output_type": "stream",
          "name": "stdout",
          "text": [
            "\n",
            "TRIAL #27: {'epsilon': 0.08769959307705508, 'gamma': 0.9854048930204669, 'lr': 0.07761897996252923, 'nsteps': 2}\n"
          ]
        },
        {
          "output_type": "stream",
          "name": "stderr",
          "text": [
            "[I 2025-02-06 17:25:23,737] Trial 27 finished with value: -62.49 and parameters: {'epsilon': 0.08769959307705508, 'gamma': 0.9854048930204669, 'lr': 0.07761897996252923, 'nsteps': 2}. Best is trial 17 with value: -10.69.\n"
          ]
        },
        {
          "output_type": "stream",
          "name": "stdout",
          "text": [
            "\n",
            "TRIAL #28: {'epsilon': 0.08332532991267591, 'gamma': 0.9490672823980103, 'lr': 0.058617081486593545, 'nsteps': 5}\n"
          ]
        },
        {
          "output_type": "stream",
          "name": "stderr",
          "text": [
            "[I 2025-02-06 17:25:24,134] Trial 28 finished with value: -62.92 and parameters: {'epsilon': 0.08332532991267591, 'gamma': 0.9490672823980103, 'lr': 0.058617081486593545, 'nsteps': 5}. Best is trial 17 with value: -10.69.\n"
          ]
        },
        {
          "output_type": "stream",
          "name": "stdout",
          "text": [
            "\n",
            "TRIAL #29: {'epsilon': 0.04206988386286924, 'gamma': 0.9990725450090011, 'lr': 0.006166531401679992, 'nsteps': 6}\n",
            "\n",
            "TRIAL #30: {'epsilon': 0.03678997630690547, 'gamma': 0.9720610864989647, 'lr': 0.2541552482699446, 'nsteps': 11}\n"
          ]
        },
        {
          "output_type": "stream",
          "name": "stderr",
          "text": [
            "[I 2025-02-06 17:25:24,745] Trial 29 finished with value: -66.74 and parameters: {'epsilon': 0.04206988386286924, 'gamma': 0.9990725450090011, 'lr': 0.006166531401679992, 'nsteps': 6}. Best is trial 17 with value: -10.69.\n",
            "[I 2025-02-06 17:25:25,050] Trial 30 finished with value: -62.67 and parameters: {'epsilon': 0.03678997630690547, 'gamma': 0.9720610864989647, 'lr': 0.2541552482699446, 'nsteps': 11}. Best is trial 17 with value: -10.69.\n"
          ]
        },
        {
          "output_type": "stream",
          "name": "stdout",
          "text": [
            "\n",
            "TRIAL #31: {'epsilon': 0.049071353302013135, 'gamma': 0.9800811181805155, 'lr': 0.11766129856911266, 'nsteps': 13}\n"
          ]
        },
        {
          "output_type": "stream",
          "name": "stderr",
          "text": [
            "[I 2025-02-06 17:25:25,341] Trial 31 finished with value: -65.81 and parameters: {'epsilon': 0.049071353302013135, 'gamma': 0.9800811181805155, 'lr': 0.11766129856911266, 'nsteps': 13}. Best is trial 17 with value: -10.69.\n"
          ]
        },
        {
          "output_type": "stream",
          "name": "stdout",
          "text": [
            "\n",
            "TRIAL #32: {'epsilon': 0.04768973776436662, 'gamma': 0.981720117721378, 'lr': 0.14424209862869924, 'nsteps': 13}\n",
            "\n",
            "TRIAL #33: {'epsilon': 0.02200276952679499, 'gamma': 0.973300538160616, 'lr': 0.46175925280216296, 'nsteps': 4}\n"
          ]
        },
        {
          "output_type": "stream",
          "name": "stderr",
          "text": [
            "[I 2025-02-06 17:25:25,789] Trial 32 finished with value: -63.66 and parameters: {'epsilon': 0.04768973776436662, 'gamma': 0.981720117721378, 'lr': 0.14424209862869924, 'nsteps': 13}. Best is trial 17 with value: -10.69.\n",
            "[I 2025-02-06 17:25:25,863] Trial 33 finished with value: -57.87 and parameters: {'epsilon': 0.02200276952679499, 'gamma': 0.973300538160616, 'lr': 0.46175925280216296, 'nsteps': 4}. Best is trial 17 with value: -10.69.\n"
          ]
        },
        {
          "output_type": "stream",
          "name": "stdout",
          "text": [
            "\n",
            "TRIAL #34: {'epsilon': 0.05973326178070762, 'gamma': 0.9911713306051686, 'lr': 0.03813099123045155, 'nsteps': 1}\n",
            "\n",
            "TRIAL #35: {'epsilon': 0.028079856411658617, 'gamma': 0.9909663847640546, 'lr': 0.09040510300979372, 'nsteps': 16}\n"
          ]
        },
        {
          "output_type": "stream",
          "name": "stderr",
          "text": [
            "[I 2025-02-06 17:25:26,420] Trial 34 finished with value: -56.71 and parameters: {'epsilon': 0.05973326178070762, 'gamma': 0.9911713306051686, 'lr': 0.03813099123045155, 'nsteps': 1}. Best is trial 17 with value: -10.69.\n",
            "[I 2025-02-06 17:25:26,476] Trial 35 finished with value: -69.45 and parameters: {'epsilon': 0.028079856411658617, 'gamma': 0.9909663847640546, 'lr': 0.09040510300979372, 'nsteps': 16}. Best is trial 17 with value: -10.69.\n"
          ]
        },
        {
          "output_type": "stream",
          "name": "stdout",
          "text": [
            "\n",
            "TRIAL #36: {'epsilon': 0.16413680136740394, 'gamma': 0.9619924137153953, 'lr': 0.19514593077661888, 'nsteps': 7}\n"
          ]
        },
        {
          "output_type": "stream",
          "name": "stderr",
          "text": [
            "[I 2025-02-06 17:25:26,889] Trial 36 finished with value: -58.32 and parameters: {'epsilon': 0.16413680136740394, 'gamma': 0.9619924137153953, 'lr': 0.19514593077661888, 'nsteps': 7}. Best is trial 17 with value: -10.69.\n"
          ]
        },
        {
          "output_type": "stream",
          "name": "stdout",
          "text": [
            "\n",
            "TRIAL #37: {'epsilon': 0.12203261046565819, 'gamma': 0.9600603687328978, 'lr': 0.2617068022980739, 'nsteps': 5}\n"
          ]
        },
        {
          "output_type": "stream",
          "name": "stderr",
          "text": [
            "[I 2025-02-06 17:25:27,248] Trial 37 finished with value: -60.24 and parameters: {'epsilon': 0.12203261046565819, 'gamma': 0.9600603687328978, 'lr': 0.2617068022980739, 'nsteps': 5}. Best is trial 17 with value: -10.69.\n"
          ]
        },
        {
          "output_type": "stream",
          "name": "stdout",
          "text": [
            "\n",
            "TRIAL #38: {'epsilon': 0.1240812418214359, 'gamma': 0.9502868765381689, 'lr': 0.2622439447170953, 'nsteps': 5}\n",
            "\n",
            "TRIAL #39: {'epsilon': 0.10313802241757963, 'gamma': 0.9521871501507104, 'lr': 0.6905033784854239, 'nsteps': 15}\n"
          ]
        },
        {
          "output_type": "stream",
          "name": "stderr",
          "text": [
            "[I 2025-02-06 17:25:27,747] Trial 38 finished with value: -60.63 and parameters: {'epsilon': 0.1240812418214359, 'gamma': 0.9502868765381689, 'lr': 0.2622439447170953, 'nsteps': 5}. Best is trial 17 with value: -10.69.\n",
            "[I 2025-02-06 17:25:27,751] Trial 39 finished with value: -62.7 and parameters: {'epsilon': 0.10313802241757963, 'gamma': 0.9521871501507104, 'lr': 0.6905033784854239, 'nsteps': 15}. Best is trial 17 with value: -10.69.\n"
          ]
        }
      ],
      "source": [
        "study1 = optuna.create_study(direction='maximize',\n",
        "                        storage='sqlite:///optuna_cap06.db',\n",
        "                        study_name='nstep_sarsa_racetrack',\n",
        "                        load_if_exists=True)\n",
        "\n",
        "# maximiza o valor de retorno de train_exp_sarsa, rodando \"n_trials\" vezes\n",
        "# o parâmetro \"n_jobs\" indica a quantidade de CPUs a serem usadas (-1 para usar todas)\n",
        "study1.optimize(train_nstep_sarsa_racetrack, n_trials=20, n_jobs=2)"
      ]
    },
    {
      "cell_type": "code",
      "execution_count": 16,
      "metadata": {
        "colab": {
          "base_uri": "https://localhost:8080/"
        },
        "id": "AEkCQbg5BbqA",
        "outputId": "ddfc724b-93b5-427d-90ed-851998574f65"
      },
      "outputs": [
        {
          "output_type": "stream",
          "name": "stdout",
          "text": [
            "MELHORES PARÂMETROS:\n",
            "{'epsilon': 0.038940452873787, 'gamma': 0.9827485795620756, 'lr': 0.3514662077956922, 'nsteps': 4}\n"
          ]
        }
      ],
      "source": [
        "print(\"MELHORES PARÂMETROS:\")\n",
        "print(study1.best_params)"
      ]
    },
    {
      "cell_type": "markdown",
      "metadata": {
        "id": "_N6eLcX7yfqd"
      },
      "source": [
        "### 3.2 - Ambiente Contínuo"
      ]
    },
    {
      "cell_type": "markdown",
      "metadata": {
        "id": "78LLxS03BbqB"
      },
      "source": [
        "Neste caso, nós aplicamos o wrapper, que tem novos parâmetros (quantidade de \"bins\" por valor do estado).\n",
        "\n",
        "O wrapper é considerado parte da solução e, por isso, os bins são também parâmetros a serem otimizados."
      ]
    },
    {
      "cell_type": "code",
      "execution_count": null,
      "metadata": {
        "id": "t7Jbppx7zr8u"
      },
      "outputs": [],
      "source": [
        "def train_nstep_sarsa_cartpole(trial : optuna.Trial):\n",
        "    # para os parâmetros do algoritmo\n",
        "    eps    = trial.suggest_float('epsilon', 0.01, 0.2)\n",
        "    #gamma  = trial.suggest_float('gamma', 0.90, 1.00) # comentei, para deixar menos parâmetros\n",
        "    lr     = trial.suggest_float('lr', 0.001, 1.0, log=True) # sugere na escala log (maior chance de escolher valor menor)\n",
        "    nsteps = trial.suggest_int('nsteps', 1, 16)\n",
        "\n",
        "    # para os parâmetros da discretização\n",
        "    bins1 = trial.suggest_int('bins1', 10, 100, step=10)\n",
        "    bins2 = trial.suggest_int('bins2', 10, 100, step=10)\n",
        "    bins3 = trial.suggest_int('bins3', 10, 100, step=10)\n",
        "    bins4 = trial.suggest_int('bins4', 10, 100, step=10)\n",
        "\n",
        "    all_bins = [bins1, bins2, bins3, bins4]\n",
        "\n",
        "    print(f\"\\nTRIAL #{trial.number}: {trial.params}\")\n",
        "\n",
        "    # cria o ambiente e o coloca no wrapper\n",
        "    env = gym.make(\"CartPole-v1\")\n",
        "    env_wrapper = ObservationDiscretizerWrapper(env, all_bins)\n",
        "\n",
        "    # roda o algoritmo, recebendo os retornos não-descontados\n",
        "    (returns, _) = run_nstep_sarsa(env_wrapper, 4000, nsteps, lr=lr, epsilon=eps, gamma=1.0, verbose=False)\n",
        "\n",
        "    # média dos retornos dos últimos 100 episódios\n",
        "    return sum(returns[-100:])/100\n"
      ]
    },
    {
      "cell_type": "code",
      "execution_count": null,
      "metadata": {
        "id": "T_6xX6d_0lht"
      },
      "outputs": [],
      "source": [
        "study2 = optuna.create_study(direction='maximize',\n",
        "                        storage='sqlite:///optuna_cap06.db',\n",
        "                        study_name='nstep_sarsa_cartpole',\n",
        "                        load_if_exists=True)\n",
        "\n",
        "# maximiza o valor de retorno de train_expsarsa_continuous, rodando \"n_trials\" vezes\n",
        "study2.optimize(train_nstep_sarsa_cartpole, n_trials=20, n_jobs=2)"
      ]
    },
    {
      "cell_type": "code",
      "execution_count": null,
      "metadata": {
        "id": "NCBOLeYMBbqC"
      },
      "outputs": [],
      "source": [
        "print(\"MELHORES PARÂMETROS:\")\n",
        "print(study2.best_params)"
      ]
    },
    {
      "cell_type": "markdown",
      "metadata": {
        "id": "Z9GF1j7HBbqC"
      },
      "source": [
        "### 3.3 - Dicas"
      ]
    },
    {
      "cell_type": "markdown",
      "metadata": {
        "id": "nlQQFjZ-BbqL"
      },
      "source": [
        "Seguem algumas dicas para usar o optuna:\n",
        "\n",
        "1. É importante rodar muitos trials (por volta de 100), para resultados mais confiáveis.\n",
        "1. Dentro da função, você deve mandar treinar por uma quantidade intermediária de iterações (=episódios, nos algoritmos):\n",
        "   - Deve ser relativamente pequena, para não demorar muito tempo rodando.\n",
        "   - Deve ser alta o suficiente para dar tempo chegar em um resultado.\n",
        "1. Também ajuda a obter bons resultados logo se você reduzir a quantidade de valores possíveis para cada parâmetro a ser otimizado.\n",
        "   - Para `float`, tente restringir os valores a uma faixa de valores úteis. Exemplo: para o `gamma`, coloque como mínimo `0.5` ou outro valor maior.\n",
        "   - Para `int`, coloque algum passo (parâmetro `step`) maior que 1, se for adequado. Exemplo: fiz isso com os bins, no exemplo acima.\n",
        "1. Para parâmetros `float` que reconhecidamente são melhores com baixos valores, faça `'log=True'`, para explorar mais a região dos valores menores.\n",
        "   - Exemplo: fiz isso com as taxas de aprendizagem\n",
        "1. Uma forma mais confiável (porém mais lenta) de avaliar um algoritmo é, dentro da função a ser otimizada, fazer várias execuções da função de treinamento e retornar a média ou a mediana\n",
        "1. Quando você fizer *qualquer* alteração dentro da função a ser otimizada, reinicie o estudo de uma dessas formas:\n",
        "   - Apague o arquivo \".db\"\n",
        "   - Ou mude o nome do estudo (parâmetro `study_name`)\n",
        "1. Se você não alterar nada da função a ser otimizada, você pode rodar novamente o método `.optimize()` com o mesmo `study_name` com segurança. Neste caso, ele irá carregar os dados dos *trials* anteriores e irá rodar novos trials na quantidade indicada por `n_trials`.\n",
        "1. Veja a quantidade de processadores da sua máquina e ajuste adequadamente o `n_jobs`, ou defina-o como -1 para usar todos eles.\n",
        "   - Se usar mais de 1 processador, evite interromper de forma \"forçada\" a execução do método `optimize()`, pois interromper pode resultar em comportamentos estranhos (principalmente em notebooks Jupyter).\n"
      ]
    },
    {
      "cell_type": "markdown",
      "metadata": {
        "id": "yF9fggfZzFVV"
      },
      "source": [
        "## 4 - Experimentos Completos"
      ]
    },
    {
      "cell_type": "markdown",
      "metadata": {
        "id": "bRuTFwbpBbqM"
      },
      "source": [
        "Agora que você descobriu bons parâmetros, que tal rodar um treinamento mais longo com o seu algoritmo?\n",
        "\n",
        "Para cada ambiente, comparar os parâmetros default com os parâmetros otimizados.\n"
      ]
    },
    {
      "cell_type": "markdown",
      "metadata": {
        "id": "bdGNkV7T5J_z"
      },
      "source": [
        "### Racetrack"
      ]
    },
    {
      "cell_type": "code",
      "execution_count": null,
      "metadata": {
        "id": "jYSG9xiHxBKe"
      },
      "outputs": [],
      "source": [
        "#env_race = TimeLimit(RacetrackEnv(), 500)\n",
        "env_race = gym.make(\"RaceTrack-v0\")\n",
        "NUM_EPISODES = 12_000\n",
        "RUNS = 3\n",
        "\n",
        "results = []\n",
        "\n",
        "results.append( repeated_exec(RUNS, f\"SARSA n-passos (default)\", run_nstep_sarsa, env_race, NUM_EPISODES) )\n",
        "#clear_output()\n",
        "\n",
        "results.append( repeated_exec(RUNS, f\"SARSA n-passos (otimizado)\", run_nstep_sarsa, env_race, NUM_EPISODES, **study1.best_params) )\n",
        "clear_output()\n",
        "\n",
        "plot_multiple_results(results, x_log_scale=False)"
      ]
    },
    {
      "cell_type": "markdown",
      "metadata": {
        "id": "jCNKUKy15J_z"
      },
      "source": [
        "### CartPole"
      ]
    },
    {
      "cell_type": "code",
      "execution_count": null,
      "metadata": {
        "id": "AtsW88Z75J_0"
      },
      "outputs": [],
      "source": [
        "env_cart = gym.make(\"CartPole-v1\")\n",
        "NUM_EPISODES = 12_000\n",
        "RUNS = 3\n",
        "\n",
        "results = []\n",
        "\n",
        "wrapped_env_cart = ObservationDiscretizerWrapper(env_cart, [30,30,30,30])\n",
        "results.append( repeated_exec(RUNS, f\"SARSA n-passos (default)\", run_nstep_sarsa, wrapped_env_cart, NUM_EPISODES, auto_load=True) )\n",
        "#clear_output()\n",
        "\n",
        "params = study2.best_params\n",
        "\n",
        "wrapped_env_cart = ObservationDiscretizerWrapper(env_cart, [ params['bins1'], params['bins2'], params['bins3'], params['bins4'] ] )\n",
        "results.append( repeated_exec(RUNS, f\"SARSA n-passos (otimizado)\", run_nstep_sarsa, wrapped_env_cart, NUM_EPISODES, epsilon=params['epsilon'], lr=params['lr'], nsteps=params['nsteps'], auto_load=True) )\n",
        "clear_output()\n",
        "\n",
        "plot_multiple_results(results, x_log_scale=False)"
      ]
    },
    {
      "cell_type": "code",
      "execution_count": null,
      "metadata": {
        "id": "VWy6LKyXBbqP"
      },
      "outputs": [],
      "source": []
    }
  ],
  "metadata": {
    "accelerator": "TPU",
    "colab": {
      "name": "cap06-main.ipynb",
      "provenance": [],
      "toc_visible": true,
      "gpuType": "V28"
    },
    "kernelspec": {
      "display_name": "rl23",
      "language": "python",
      "name": "python3"
    },
    "language_info": {
      "codemirror_mode": {
        "name": "ipython",
        "version": 3
      },
      "file_extension": ".py",
      "mimetype": "text/x-python",
      "name": "python",
      "nbconvert_exporter": "python",
      "pygments_lexer": "ipython3",
      "version": "3.11.6"
    }
  },
  "nbformat": 4,
  "nbformat_minor": 0
}